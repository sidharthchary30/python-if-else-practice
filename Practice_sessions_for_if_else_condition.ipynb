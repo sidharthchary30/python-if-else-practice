{
  "nbformat": 4,
  "nbformat_minor": 0,
  "metadata": {
    "colab": {
      "provenance": []
    },
    "kernelspec": {
      "name": "python3",
      "display_name": "Python 3"
    },
    "language_info": {
      "name": "python"
    }
  },
  "cells": [
    {
      "cell_type": "code",
      "execution_count": 1,
      "metadata": {
        "colab": {
          "base_uri": "https://localhost:8080/"
        },
        "id": "67nXYiWG7dJX",
        "outputId": "67e1a58b-f8c3-4f42-c538-21bcb225f9fc"
      },
      "outputs": [
        {
          "output_type": "stream",
          "name": "stdout",
          "text": [
            "jai mahakali\n"
          ]
        }
      ],
      "source": [
        "print(\"jai mahakali\")"
      ]
    },
    {
      "cell_type": "markdown",
      "source": [
        "# Practice sessions for if else condition"
      ],
      "metadata": {
        "id": "Z07Wuqzq7pX7"
      }
    },
    {
      "cell_type": "markdown",
      "source": [
        "Problem 1 - Write a program that takes a number as input and checks if it is even or odd."
      ],
      "metadata": {
        "id": "p1FX2CP679b7"
      }
    },
    {
      "cell_type": "code",
      "source": [
        "check = int(input(\"Input a number:\"))\n",
        "if check % 2 == 0:\n",
        "  print(\"The given number is an even number\")\n",
        "else:\n",
        "  print(\"The given number is not an even number\")"
      ],
      "metadata": {
        "colab": {
          "base_uri": "https://localhost:8080/",
          "height": 356
        },
        "collapsed": true,
        "id": "vZJR-61f7jxQ",
        "outputId": "1bb44b04-387b-435c-d62e-18c6f2d71a75"
      },
      "execution_count": 2,
      "outputs": [
        {
          "output_type": "error",
          "ename": "KeyboardInterrupt",
          "evalue": "Interrupted by user",
          "traceback": [
            "\u001b[0;31m---------------------------------------------------------------------------\u001b[0m",
            "\u001b[0;31mKeyboardInterrupt\u001b[0m                         Traceback (most recent call last)",
            "\u001b[0;32m<ipython-input-2-8b89614c081c>\u001b[0m in \u001b[0;36m<cell line: 0>\u001b[0;34m()\u001b[0m\n\u001b[0;32m----> 1\u001b[0;31m \u001b[0mcheck\u001b[0m \u001b[0;34m=\u001b[0m \u001b[0mint\u001b[0m\u001b[0;34m(\u001b[0m\u001b[0minput\u001b[0m\u001b[0;34m(\u001b[0m\u001b[0;34m\"Input a number:\"\u001b[0m\u001b[0;34m)\u001b[0m\u001b[0;34m)\u001b[0m\u001b[0;34m\u001b[0m\u001b[0;34m\u001b[0m\u001b[0m\n\u001b[0m\u001b[1;32m      2\u001b[0m \u001b[0;32mif\u001b[0m \u001b[0mcheck\u001b[0m \u001b[0;34m%\u001b[0m \u001b[0;36m2\u001b[0m \u001b[0;34m==\u001b[0m \u001b[0;36m0\u001b[0m\u001b[0;34m:\u001b[0m\u001b[0;34m\u001b[0m\u001b[0;34m\u001b[0m\u001b[0m\n\u001b[1;32m      3\u001b[0m   \u001b[0mprint\u001b[0m\u001b[0;34m(\u001b[0m\u001b[0;34m\"The given number is an even number\"\u001b[0m\u001b[0;34m)\u001b[0m\u001b[0;34m\u001b[0m\u001b[0;34m\u001b[0m\u001b[0m\n\u001b[1;32m      4\u001b[0m \u001b[0;32melse\u001b[0m\u001b[0;34m:\u001b[0m\u001b[0;34m\u001b[0m\u001b[0;34m\u001b[0m\u001b[0m\n\u001b[1;32m      5\u001b[0m   \u001b[0mprint\u001b[0m\u001b[0;34m(\u001b[0m\u001b[0;34m\"The given number is not an even number\"\u001b[0m\u001b[0;34m)\u001b[0m\u001b[0;34m\u001b[0m\u001b[0;34m\u001b[0m\u001b[0m\n",
            "\u001b[0;32m/usr/local/lib/python3.11/dist-packages/ipykernel/kernelbase.py\u001b[0m in \u001b[0;36mraw_input\u001b[0;34m(self, prompt)\u001b[0m\n\u001b[1;32m   1175\u001b[0m                 \u001b[0;34m\"raw_input was called, but this frontend does not support input requests.\"\u001b[0m\u001b[0;34m\u001b[0m\u001b[0;34m\u001b[0m\u001b[0m\n\u001b[1;32m   1176\u001b[0m             )\n\u001b[0;32m-> 1177\u001b[0;31m         return self._input_request(\n\u001b[0m\u001b[1;32m   1178\u001b[0m             \u001b[0mstr\u001b[0m\u001b[0;34m(\u001b[0m\u001b[0mprompt\u001b[0m\u001b[0;34m)\u001b[0m\u001b[0;34m,\u001b[0m\u001b[0;34m\u001b[0m\u001b[0;34m\u001b[0m\u001b[0m\n\u001b[1;32m   1179\u001b[0m             \u001b[0mself\u001b[0m\u001b[0;34m.\u001b[0m\u001b[0m_parent_ident\u001b[0m\u001b[0;34m[\u001b[0m\u001b[0;34m\"shell\"\u001b[0m\u001b[0;34m]\u001b[0m\u001b[0;34m,\u001b[0m\u001b[0;34m\u001b[0m\u001b[0;34m\u001b[0m\u001b[0m\n",
            "\u001b[0;32m/usr/local/lib/python3.11/dist-packages/ipykernel/kernelbase.py\u001b[0m in \u001b[0;36m_input_request\u001b[0;34m(self, prompt, ident, parent, password)\u001b[0m\n\u001b[1;32m   1217\u001b[0m             \u001b[0;32mexcept\u001b[0m \u001b[0mKeyboardInterrupt\u001b[0m\u001b[0;34m:\u001b[0m\u001b[0;34m\u001b[0m\u001b[0;34m\u001b[0m\u001b[0m\n\u001b[1;32m   1218\u001b[0m                 \u001b[0;31m# re-raise KeyboardInterrupt, to truncate traceback\u001b[0m\u001b[0;34m\u001b[0m\u001b[0;34m\u001b[0m\u001b[0m\n\u001b[0;32m-> 1219\u001b[0;31m                 \u001b[0;32mraise\u001b[0m \u001b[0mKeyboardInterrupt\u001b[0m\u001b[0;34m(\u001b[0m\u001b[0;34m\"Interrupted by user\"\u001b[0m\u001b[0;34m)\u001b[0m \u001b[0;32mfrom\u001b[0m \u001b[0;32mNone\u001b[0m\u001b[0;34m\u001b[0m\u001b[0;34m\u001b[0m\u001b[0m\n\u001b[0m\u001b[1;32m   1220\u001b[0m             \u001b[0;32mexcept\u001b[0m \u001b[0mException\u001b[0m\u001b[0;34m:\u001b[0m\u001b[0;34m\u001b[0m\u001b[0;34m\u001b[0m\u001b[0m\n\u001b[1;32m   1221\u001b[0m                 \u001b[0mself\u001b[0m\u001b[0;34m.\u001b[0m\u001b[0mlog\u001b[0m\u001b[0;34m.\u001b[0m\u001b[0mwarning\u001b[0m\u001b[0;34m(\u001b[0m\u001b[0;34m\"Invalid Message:\"\u001b[0m\u001b[0;34m,\u001b[0m \u001b[0mexc_info\u001b[0m\u001b[0;34m=\u001b[0m\u001b[0;32mTrue\u001b[0m\u001b[0;34m)\u001b[0m\u001b[0;34m\u001b[0m\u001b[0;34m\u001b[0m\u001b[0m\n",
            "\u001b[0;31mKeyboardInterrupt\u001b[0m: Interrupted by user"
          ]
        }
      ]
    },
    {
      "cell_type": "markdown",
      "source": [
        "Problem 2 -Check Positive, Negative, or Zero"
      ],
      "metadata": {
        "id": "iTfX6Gno8ZgH"
      }
    },
    {
      "cell_type": "code",
      "source": [
        "trail = int(input(\"Input a number: \"))\n",
        "if trail > 0:\n",
        "  print(\"The given number is positive\")\n",
        "elif trail < 0:\n",
        "  print(\"The given number is negetive\")\n",
        "else:\n",
        "  print(\"The given number is 0\")"
      ],
      "metadata": {
        "id": "5sxRAGay8XLA"
      },
      "execution_count": null,
      "outputs": []
    },
    {
      "cell_type": "markdown",
      "source": [
        "Problem 3 - Find the Largest of Two Numbers"
      ],
      "metadata": {
        "id": "vkQaut9p8wsm"
      }
    },
    {
      "cell_type": "code",
      "source": [
        "a = input(\"Input Number A\")\n",
        "b = input(\"Input Number B\")\n",
        "if a> b :\n",
        "  print(\"a is greater than b\")\n",
        "else:\n",
        "  print(\"b is greater than a\")"
      ],
      "metadata": {
        "id": "kGEKtxvT85LN"
      },
      "execution_count": null,
      "outputs": []
    },
    {
      "cell_type": "markdown",
      "source": [
        "Problem 4 - Find the largest of 3 numbers"
      ],
      "metadata": {
        "id": "QkKhtqDaANFc"
      }
    },
    {
      "cell_type": "code",
      "source": [
        "x = input(\"Input Number x\")\n",
        "y = input(\"Input Number y\")\n",
        "z = input(\"Input Number z\")\n",
        "if x > y and x > z:\n",
        "  print(\"X is greatest of all\")\n",
        "elif y > x and y > z:\n",
        "  print(\"Y is the greatest of all\")\n",
        "elif z > x and z > y:\n",
        "  print(\"Z is greatest of all\")"
      ],
      "metadata": {
        "id": "SHesWv7FA_PB"
      },
      "execution_count": null,
      "outputs": []
    },
    {
      "cell_type": "markdown",
      "source": [
        "Problem 5 - Voting Eligibility: Ask the user for their age and determine if they are eligible to vote (18+)"
      ],
      "metadata": {
        "id": "caqfE6O9BCWV"
      }
    },
    {
      "cell_type": "code",
      "source": [
        "vote = int(input(\"Enter your age: \"))\n",
        "if vote >= 18:\n",
        "  print(\"You are eligible to vote\")\n",
        "else:\n",
        "  print(\"You are not eligible to vote\")"
      ],
      "metadata": {
        "id": "k5RDFWJ5BNiA"
      },
      "execution_count": null,
      "outputs": []
    },
    {
      "cell_type": "markdown",
      "source": [
        "Problem 6 - Divisibility Check: Check if a number is divisible by both 5 and 7."
      ],
      "metadata": {
        "id": "dWBbpZ-VBTJY"
      }
    },
    {
      "cell_type": "code",
      "source": [
        "number = int(input(\"Enter a number: \"))\n",
        "if number % 5 == 0 and number % 7 == 0:\n",
        "  print(\"Yes\")\n",
        "else:\n",
        "  print('No')"
      ],
      "metadata": {
        "id": "p_DZ0q-LBY4V"
      },
      "execution_count": null,
      "outputs": []
    },
    {
      "cell_type": "markdown",
      "source": [
        "Problem 7 - Largest of Two Numbers: Take two numbers as input and print the larger one."
      ],
      "metadata": {
        "id": "HsdxKraoB6mQ"
      }
    },
    {
      "cell_type": "code",
      "source": [
        "num1 = int(input(\"Enter the number 1\"))\n",
        "num2 = int(input(\"Enter the number 2\"))\n",
        "if num1 > num2:\n",
        "  print(\"Num1 is the larger one\")\n",
        "else:\n",
        "  print(\"Num2 is the larger one\")"
      ],
      "metadata": {
        "id": "gGBiJtNvCAYU"
      },
      "execution_count": null,
      "outputs": []
    },
    {
      "cell_type": "markdown",
      "source": [
        "##Problem 8 - Leap Year Check: Write a program that checks if a given year is a leap year.\n",
        "A leap year is exactly divisible by 4 except for century years (years ending with 00).\n",
        "The century year is a leap year only if it is perfectly divisible by 400."
      ],
      "metadata": {
        "id": "xcCEHU_5CDGb"
      }
    },
    {
      "cell_type": "code",
      "source": [
        "year = int(input(\"Enter the year -\"))\n",
        "\n",
        "# divided by 100 means century year (ending with 00)\n",
        "# century year divided by 400 is leap year\n",
        "\n",
        "if (year % 400 == 0) and (year % 100 == 0) :\n",
        "  print(\"This year is a leap year\")\n",
        "elif (year % 4 == 0) and (year % 100 != 0):\n",
        "  print(\"This year is a leap year\")\n",
        "else:\n",
        "  print(\"This is not a leap year\")"
      ],
      "metadata": {
        "id": "u9cGDat6CX_E"
      },
      "execution_count": null,
      "outputs": []
    },
    {
      "cell_type": "markdown",
      "source": [
        "Problem 9 - Take marks as input and assign a grade based on the score"
      ],
      "metadata": {
        "id": "tpJoWDy0CiTH"
      }
    },
    {
      "cell_type": "code",
      "source": [
        "marks = int(input(\"Please enter marks: \"))\n",
        "if marks >= 90:\n",
        "  print(\"Grade A\")\n",
        "elif marks >= 80 and marks <= 89 :\n",
        "  print(\"Grade B\")\n",
        "elif marks >= 70 and marks <= 79 :\n",
        "  print(\"Grade C\")\n",
        "elif marks >= 60  and marks <= 69 :\n",
        "  print(\"Grade D\")\n",
        "elif marks < 60:\n",
        "    print(\"Grade F\")"
      ],
      "metadata": {
        "id": "mffLU7rdCrMp"
      },
      "execution_count": null,
      "outputs": []
    },
    {
      "cell_type": "markdown",
      "source": [
        "Problem 10 - Categorize between Equilatral , Iscosceles and Scalene Triangle"
      ],
      "metadata": {
        "id": "FBhz1M5MCvhO"
      }
    },
    {
      "cell_type": "code",
      "source": [
        "sidea = float(input(\"Enter side a\"))\n",
        "sideb = float(input(\"Enter side b\"))\n",
        "sidec = float(input(\"Enter side c\"))\n",
        "\n",
        "if sidea == sideb == sidec:\n",
        "  print(\"Equilatral Triangle\")\n",
        "elif sidea == sideb or sideb == sidec or sidea == sidec:\n",
        "  print(\"Isosceles Triangle\")\n",
        "else:\n",
        "  print(\"Scalene Triangle\")"
      ],
      "metadata": {
        "id": "IGTsg-qyC0Ov"
      },
      "execution_count": null,
      "outputs": []
    },
    {
      "cell_type": "markdown",
      "source": [
        "##Problem 11 - Electricity bill calculation\n",
        "0-100 units → ₹5 per unit\n",
        "\n",
        "101-200 units → ₹7 per unit\n",
        "\n",
        "Above 200 units → ₹10 per unit"
      ],
      "metadata": {
        "id": "d0g-dCnYEldG"
      }
    },
    {
      "cell_type": "code",
      "source": [
        "units = float(input(\"Enter the no of units\"))\n",
        "if units >= 0 and units <= 100:\n",
        "  amount = units * 5\n",
        "  print(\"The amount is \",amount)\n",
        "elif units >= 101 and units <= 200:\n",
        "  amount = units * 7\n",
        "  print(\"The amount is\",amount)\n",
        "elif units > 200:\n",
        "  amount = units * 10\n",
        "  print(\"The amount is\" ,amount)"
      ],
      "metadata": {
        "id": "z3h4f5-9EcKS"
      },
      "execution_count": null,
      "outputs": []
    },
    {
      "cell_type": "markdown",
      "source": [
        "##Problem 12 - Discount Calculator:\n",
        "If a customer’s bill is above ₹5000, they get a 10% discount; otherwise, no discount."
      ],
      "metadata": {
        "id": "yII4ri_TE9pH"
      }
    },
    {
      "cell_type": "code",
      "source": [
        "bill = int(input(\"Enter the bill amount\"))\n",
        "if bill >= 5000:\n",
        "  bill = bill-(bill * 0.1)\n",
        "  print(bill)\n",
        "else:\n",
        "  print(bill)"
      ],
      "metadata": {
        "id": "YAc6nxwLFoau"
      },
      "execution_count": null,
      "outputs": []
    }
  ]
}